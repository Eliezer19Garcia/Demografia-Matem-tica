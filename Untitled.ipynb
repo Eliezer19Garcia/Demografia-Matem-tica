{
 "cells": [
  {
   "cell_type": "markdown",
   "id": "eb89ad48",
   "metadata": {},
   "source": [
    "## Maximo de embarazos de una mujer en edad fertil (12 - 49)\n",
    "Se observa que en el periodo de 12 a 49 años hay 37 años de por medio, y la mujer vuelve a ser fertil luego de 40 días, asumiendo 360 días al año y 30 días al mespodemos calcular el número máximo de veces que una mujer pueder estar embarazad en su periodo de vida fertil.\n"
   ]
  },
  {
   "cell_type": "code",
   "execution_count": 4,
   "id": "179a944f",
   "metadata": {},
   "outputs": [
    {
     "data": {
      "text/html": [
       "42.9677419354839"
      ],
      "text/latex": [
       "42.9677419354839"
      ],
      "text/markdown": [
       "42.9677419354839"
      ],
      "text/plain": [
       "[1] 42.96774"
      ]
     },
     "metadata": {},
     "output_type": "display_data"
    }
   ],
   "source": [
    "rango_años_fertil <- 49-12\n",
    "dias_fertil <- rango_años_fertil*360\n",
    "dias_embarazo_recuperacion <- 9*30+40\n",
    "n_embarazos <- dias_fertil/dias_embarazo_recuperacion\n",
    "n_embarazos"
   ]
  },
  {
   "cell_type": "code",
   "execution_count": 7,
   "id": "1fd8c70f",
   "metadata": {},
   "outputs": [
    {
     "data": {
      "text/html": [
       "'C:/Users/eliez/Documents'"
      ],
      "text/latex": [
       "'C:/Users/eliez/Documents'"
      ],
      "text/markdown": [
       "'C:/Users/eliez/Documents'"
      ],
      "text/plain": [
       "[1] \"C:/Users/eliez/Documents\""
      ]
     },
     "metadata": {},
     "output_type": "display_data"
    }
   ],
   "source": [
    "getwd()"
   ]
  }
 ],
 "metadata": {
  "kernelspec": {
   "display_name": "R",
   "language": "R",
   "name": "ir"
  },
  "language_info": {
   "codemirror_mode": "r",
   "file_extension": ".r",
   "mimetype": "text/x-r-source",
   "name": "R",
   "pygments_lexer": "r",
   "version": "3.6.1"
  }
 },
 "nbformat": 4,
 "nbformat_minor": 5
}
