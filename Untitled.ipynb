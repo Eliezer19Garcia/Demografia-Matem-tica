{
 "cells": [
  {
   "cell_type": "markdown",
   "id": "ae129c34",
   "metadata": {},
   "source": [
    "## Examen segundo parcial"
   ]
  },
  {
   "cell_type": "markdown",
   "id": "03714eec",
   "metadata": {},
   "source": [
    "Con base en información del inegi calcular las siguientes tasas del Estado de Morelos \n",
    "\n",
    "1) La tasa bruta de natalidad\n",
    "\n",
    "2) la tasa especifica de fecundidad por grupos quinquenales de edad\n",
    "\n",
    "3) tasa global de fecundidad \n",
    "\n",
    "4) la tasa bruta de reproducción\n",
    "\n",
    "\n",
    "Comparar y analizar estas en los años 2000, 2010 y 2015\n",
    "Las tasas las necesito con una buena presentación y en rmarkdown donde pueda ver su script y las tablas, así como un buen análisis e interpretación de las tasas, esto lo harán con base en las entidades federativa que les asigne por este medio. "
   ]
  },
  {
   "cell_type": "code",
   "execution_count": null,
   "id": "0ef26ced",
   "metadata": {},
   "outputs": [],
   "source": [
    "library(dplyr)\n",
    "dta_2000<-data.frame(\"Rango\"=c(\"15-19\",\"20-24\",\"25-29\",\"30-34\",\"35-39\",\"40-44\"),\n",
    "                     \"Nacimientos\"=c(11150,\t21735,\t19740,\t11509,\t4526, 991),\n",
    "                     \"Poblacion\" =c(136460 , 139555 , 130197\t, 114623\t, 97807\t, 79184))\n",
    "\n",
    "\n",
    "dta_2010<-data.frame(\"Rango\"=c(\"15-19\",\"20-24\",\"25-29\",\"30-34\",\"35-39\",\"40-44\"),\n",
    "                     \"Nacimientos\"=c(12042,\t19164,\t16907,\t10908,\t4985,\t981),\n",
    "                     \"Poblacion\"=c(144431 , 138395 , 131901 , 131205 ,  128308 , 109432))\n",
    "\n",
    "dta_2015 <- data.frame(\"Rango\"=c(\"15-19\",\"20-24\",\"25-29\",\"30-34\",\"35-39\",\"40-44\"),\n",
    "                       \"Nacimientos\"=c(10345,\t17951,\t14987,\t10193,\t4592,\t1026),\n",
    "                       \"Poblacion\"=c(145794,143331,132073,133553,133209,129199))\n",
    "\n",
    "#Tasa bruta\n",
    "tb_2000 <- sum(dta_2000$Nacimientos)/2753222\n",
    "tb_210 <- sum(dta_2010$Nacimientos)/3268554\n",
    "tb_2015 <- sum(dta_2015$Nacimientos)/3441698\n",
    "# Tasa especifica de fecundidad \n",
    "dta_2000$tef_2000 <- dta_2000$Nacimientos/dta_2000$Poblacion\n",
    "dta_2010$tef_2010 <- dta_2010$Nacimientos/dta_2010$Poblacion\n",
    "dta_2015$tef_2015 <- dta_2015$Nacimientos/dta_2015$Poblacion\n",
    "#Tasa global de fecundidad\n",
    "tasa_global_2000 <- sum(dta_2000$Nacimientos)/sum(dta_2000$Poblacion)   \n",
    "tasa_global_2010 <- sum(dta_2010$Nacimientos)/sum(dta_2010$Poblacion)  \n",
    "tasa_global_2015 <- sum(dta_2015$Nacimientos)/sum(dta_2015$Poblacion)\n",
    "# Tasa bruta de reproducción\n",
    "tbr_2000 <- tasa_global_2000*0.4878\n",
    "tbr_2010 <- tasa_global_2010*0.4878\n",
    "tbr_2015 <- tasa_global_2015*0.4878"
   ]
  },
  {
   "cell_type": "markdown",
   "id": "99bf5e8d",
   "metadata": {},
   "source": [
    "Análisis:\n",
    "\n",
    "Observamos que la tasa global y la tasa de bruta ha ido disminuyendo en el estado\n",
    "y vemos que en 2015 la tasa bajo draticamnte por lo cual es algo alarmante para la migración del estado o bien que se está quedando sin poblción\n"
   ]
  },
  {
   "cell_type": "markdown",
   "id": "cd5e567b",
   "metadata": {},
   "source": [
    "De la encuesta nacional de ocupación y empleo (enoe) año 2020 trim 1 (base coe1)\n",
    "\n",
    "hacer lo siguiente: \n",
    "\n",
    "Base coe 1\n",
    "\n",
    "1) Generar una variable donde capten a los trabajador@s  de la entidad asignada. calcular la población  Es importante considerar las preguntas de recuperación para obtener a todos los trabajadores.\n",
    "\n",
    "La variable debe de categorizarla en 1= sí trabaja, 2 = no trabaja"
   ]
  },
  {
   "cell_type": "code",
   "execution_count": null,
   "id": "a32d4a7c",
   "metadata": {},
   "outputs": [],
   "source": [
    "library(questionr)\n",
    "Poblacion_economica_activa <- coe120 %>% \n",
    "  filter(p1==1 | p1a1==1 | p1a2==2 | p1b==1 | (p1c!=12 & p1c!=99) | p2_1==1 | p2_2==2| p2_3==3)\n",
    "\n",
    "dim(Poblacion_economica_activa)  \n",
    "Poblacion_trabajadora <- wtd.table(Poblacion_economica_activa$ent,weights = Poblacion_economica_activa$fac)[28]\n",
    "Poblacion_trabajadora\n",
    "activa <- Poblacion_economica_activa %>% filter(ent==28)\n",
    "inactiva <- coe120 %>% filter(X %in% !activa$X, ent==28)\n",
    "activa<- activa %>% mutate(trabaja = 1)\n",
    "inactiva <- inactiva %>% mutate(trabaja =2)\n",
    "View(rbind(activa,inactiva))"
   ]
  },
  {
   "cell_type": "markdown",
   "id": "73b5f0e6",
   "metadata": {},
   "source": [
    "2) calcular la media de la edad por municipio de la entidad asignada de los trabajadores y los que no trabajan. "
   ]
  },
  {
   "cell_type": "code",
   "execution_count": null,
   "id": "7f25c1c4",
   "metadata": {},
   "outputs": [],
   "source": [
    "edad<- activa %>% filter(ent==28) %>% \n",
    "    group_by(mun) %>% \n",
    "    transmute(edad_prom = mean(eda,na.rm=TRUE)) %>% \n",
    "    distinct()"
   ]
  },
  {
   "cell_type": "markdown",
   "id": "25dc5204",
   "metadata": {},
   "source": [
    "3) calcular la variable prestaciones (p3m) y categorizarla de la siguiente manera (solo trabajadores)\n",
    "\n",
    "a) no tiene \n",
    "\n",
    "b) menos de 2\n",
    "\n",
    "c) >=2 y menos d 5 prestaciones\n",
    "\n",
    "d) >= 5 prestaciones\n",
    "\n",
    "e) no sabe"
   ]
  },
  {
   "cell_type": "code",
   "execution_count": null,
   "id": "02e5517c",
   "metadata": {},
   "outputs": [],
   "source": [
    "coe120<-read.csv(\"coe120.csv\")\n",
    "coe_pres <- coe120 %>% select(ent,p3m1:p3m9)\n",
    "\n",
    "vec <- rep(0,dim(coe_pres)[1])\n",
    "for (i in 1:dim(coe_pres)[1]) {\n",
    "  vec[i]<-length(coe_pres[i,c(2:8)][is.na(coe_pres[i,c(2:8)])==FALSE])\n",
    "}\n",
    "\n",
    "coe_pres$prestaciones <- vec\n",
    "coe_pres <- coe_pres %>% \n",
    "  mutate(presta_final = case_when(p3m9== 9 ~ \"no sabe\",\n",
    "                                  prestaciones >0  & prestaciones < 2 ~ \"menos de 2\",\n",
    "                                  prestaciones>= 2 & prestaciones< 5 ~ \"2 y menos de 5\",\n",
    "                                  prestaciones >= 5 ~ \"mas de 5\",\n",
    "                                  prestaciones == 0 ~ \"no tiene\"))\n",
    "coe_pres <- coe_pres %>% filter(ent == 28)"
   ]
  },
  {
   "cell_type": "markdown",
   "id": "c499ecba",
   "metadata": {},
   "source": [
    "3) calcular las horas trabajadsas semanalmente y categorizar la variable de la siguiente manera\n",
    "\n",
    "a) <= de 24\n",
    "\n",
    "b) > 24 y menos de 40\n",
    "\n",
    "c) >= 40 y <= 48 horas\n",
    "\n",
    "d) mayor a 48\n",
    "\n",
    "e) no sabe ( ns o no especificado)"
   ]
  },
  {
   "cell_type": "code",
   "execution_count": null,
   "id": "cea33bb5",
   "metadata": {},
   "outputs": [],
   "source": [
    "coe120 <- read_csv(\"coe120.csv\")\n",
    "coe<- coe120 %>% \n",
    "  as_tibble() %>% \n",
    "  mutate (HorasTrabajo=case_when((p5c_thrs<=24)~ \"<= 24 horas\",\n",
    "                                 (p5c_thrs>24 & p5c_thrs<40)~ \"> 24 horas y menos de 40 horas\",\n",
    "                                 (p5c_thrs>=40 & p5c_thrs<=48)~ \">= 40 horas y <= 48 horas\",\n",
    "                                 (p5c_thrs>48& p5c_thrs<=998)~ \"mayor a 48 horas\",\n",
    "                                 (p5c_thrs==999)~ \"no especificado\" ))\n",
    "\n",
    "Tabla_HRST<-table(coe$HorasTrabajo)\n",
    "Tabla_HRST\n",
    "\n",
    "HRSTRAB <-coe %>%\n",
    "  select(ent,HorasTrabajo)\n",
    "\n",
    "table(HRSTRAB)"
   ]
  },
  {
   "cell_type": "markdown",
   "id": "e2c00972",
   "metadata": {},
   "source": [
    "Calcular lo siguiente:\n",
    "por municipio de y tu entidad mediana de los ingreso por ocupación y media de las ingresos por hora\n"
   ]
  },
  {
   "cell_type": "code",
   "execution_count": null,
   "id": "a262be79",
   "metadata": {},
   "outputs": [],
   "source": [
    "sdem20<-read.csv(\"sdem20.csv\")\n",
    "\n",
    "salarios <- sdem20 %>% filter(ent==28) %>% \n",
    "  group_by(mun) %>% \n",
    "  transmute(mediana_ing = median(ingocup,na.rm=TRUE), ing_x_hrs=mean(ing_x_hrs,na.rm=TRUE)) %>% \n",
    "  distinct()\n",
    "View(salarios)"
   ]
  }
 ],
 "metadata": {
  "kernelspec": {
   "display_name": "R",
   "language": "R",
   "name": "ir"
  },
  "language_info": {
   "codemirror_mode": "r",
   "file_extension": ".r",
   "mimetype": "text/x-r-source",
   "name": "R",
   "pygments_lexer": "r",
   "version": "3.6.1"
  }
 },
 "nbformat": 4,
 "nbformat_minor": 5
}
