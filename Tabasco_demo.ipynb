{
 "cells": [
  {
   "cell_type": "markdown",
   "id": "f48143c7",
   "metadata": {},
   "source": [
    "## Principales índices en los municipios de Tabasco\n",
    "A continuación se presenta el tratamiento de datos que se realizó para la limpieza de la base de datos [Censo y Población 2020 en Tabasco](https://www.inegi.org.mx/contenidos/programas/ccpv/2020/microdatos/iter/iter_27_2020_csv.zip)  obenida de INEGI, para poder obtener datos totales de los 17 municipios \n"
   ]
  },
  {
   "cell_type": "code",
   "execution_count": null,
   "id": "a4c4a5b3",
   "metadata": {},
   "outputs": [],
   "source": [
    "library(tidyverse)\n",
    "# En el caso de quien consulta es necesario la ruta del csv a la que corresponda\n",
    "tabasco_muni<-read.csv(\"C://users//eliez//Desktop//ITER_27CSV20.csv\")\n",
    "\n",
    "tabasco_muni<-select(tabasco_muni,NOM_MUN, P_0A2:P_85YMAS_M)\n",
    "\n",
    "tabasco_numeric<-as.data.frame(sapply(tabasco_muni[,c(2:99)], as.numeric))\n",
    "\n",
    "tabasco_muni<-data.frame(tabasco_muni$NOM_MUN,tabasco_numeric)\n",
    "\n",
    "tab_muni<-(unique(as.factor(tabasco_muni$tabasco_muni.NOM_MUN))[order(unique(as.factor(tabasco_muni$tabasco_muni.NOM_MUN)))])\n",
    "\n",
    "for(i in names(as.data.frame(tabasco_muni[,c(2:99)]))){\n",
    "  tab_muni<-data.frame(tab_muni,tapply(t(tabasco_muni[,i]), tabasco_muni$tabasco_muni.NOM_MUN,sum, na.rm=TRUE))\n",
    "}\n",
    "\n",
    "names(tab_muni)<- c(\"Municipio\", names(tabasco_muni)[2:99])"
   ]
  },
  {
   "cell_type": "markdown",
   "id": "462632bb",
   "metadata": {},
   "source": [
    "Una vez limpia y tratada la base de datos realizamos los calculos de: \n",
    "\n",
    "``IM`` : Índice de masculinidad\n",
    "\n",
    "``RNM``: Razón de niños a mujeres\n",
    "\n",
    "``Ideop``: Índice de dependencia\n",
    "\n",
    "Para luego obtener las tablas de los 3 municipios con mayor indice o razón correspondiente\n"
   ]
  },
  {
   "cell_type": "code",
   "execution_count": null,
   "id": "c2a88821",
   "metadata": {},
   "outputs": [],
   "source": [
    "tab_muni$IM <- (tab_muni$P_0A2_M + tab_muni$P_3YMAS_M)/(tab_muni$P_0A2_F+tab_muni$P_3YMAS_F) \n",
    "tab_muni$RNM <- (tab_muni$P_0A2+tab_muni$P_3A5)/(tab_muni$P_15A49_F)\n",
    "tab_muni$Idep <- (tab_muni$P_10A14+tab_muni$POB65_MAS)/tab_muni$POB15_64\n",
    "\n",
    "IM_3 <- tab_muni[order(tab_muni$IM, decreasing = TRUE),c(1,100)][1:3,]\n",
    "\n",
    "RNM_3 <- tab_muni[order(tab_muni$RNM, decreasing = TRUE), c(1,101)][1:3,]\n",
    "\n",
    "Idep_3 <- tab_muni[order(tab_muni$Idep, decreasing = TRUE),c(1,102)][1:3,]\n"
   ]
  },
  {
   "cell_type": "code",
   "execution_count": null,
   "id": "e45141ef",
   "metadata": {},
   "outputs": [],
   "source": [
    "IM_3\n",
    "RNM_3\n",
    "Idep_3"
   ]
  }
 ],
 "metadata": {
  "kernelspec": {
   "display_name": "R",
   "language": "R",
   "name": "ir"
  },
  "language_info": {
   "codemirror_mode": "r",
   "file_extension": ".r",
   "mimetype": "text/x-r-source",
   "name": "R",
   "pygments_lexer": "r",
   "version": "3.6.1"
  }
 },
 "nbformat": 4,
 "nbformat_minor": 5
}
